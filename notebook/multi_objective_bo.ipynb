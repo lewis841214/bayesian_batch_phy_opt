{
  "cells": [
    {
      "cell_type": "markdown",
      "metadata": {
        "originalKey": "61330204-a407-449f-af77-fcd868546651",
        "showInput": false
      },
      "source": [
        "## Noisy, Parallel, Multi-Objective BO in BoTorch with qEHVI, qNEHVI, and qNParEGO\n",
        "\n",
        "In this tutorial, we illustrate how to implement a simple multi-objective (MO) Bayesian Optimization (BO) closed loop in BoTorch.\n",
        "\n",
        "In general, we recommend using [Ax](https://ax.dev) for a simple BO setup like this one, since this will simplify your setup (including the amount of code you need to write) considerably. See [here](https://ax.dev/docs/tutorials/multiobjective_optimization.html) for an Ax tutorial on MOBO. If desired, you can use a custom BoTorch model in Ax, following the [Using BoTorch with Ax](/docs/tutorials/custom_botorch_model_in_ax) tutorial. Given a `MultiObjective`, Ax will default to the $q$NEHVI acquisiton function. If desired, this can also be customized by adding `\"botorch_acqf_class\": <desired_botorch_acquisition_function_class>,` to the `model_kwargs`.\n",
        "\n",
        "We use the parallel ParEGO ($q$ParEGO) [1], parallel Expected Hypervolume Improvement ($q$EHVI) [1], and parallel Noisy Expected Hypervolume Improvement ($q$NEHVI) [2]  acquisition functions to optimize a synthetic BraninCurrin problem test function with additive Gaussian observation noise over a 2-parameter search space [0,1]^2. See  `botorch/test_functions/multi_objective.py` for details on BraninCurrin. The noise standard deviations are 15.19 and 0.63 for each objective, respectively.\n",
        "\n",
        "Since botorch assumes a maximization of all objectives, we seek to find the Pareto frontier, the set of optimal trade-offs where improving one metric means deteriorating another.\n",
        "\n",
        "[1] [S. Daulton, M. Balandat, and E. Bakshy. Differentiable Expected Hypervolume Improvement for Parallel Multi-Objective Bayesian Optimization. Advances in Neural Information Processing Systems 33, 2020.](https://arxiv.org/abs/2006.05078)\n",
        "\n",
        "[2] [S. Daulton, M. Balandat, and E. Bakshy. Parallel Bayesian Optimization of Multiple Noisy Objectives with Expected Hypervolume Improvement. Advances in Neural Information Processing Systems 34, 2021.](https://arxiv.org/abs/2105.08195)\n",
        "\n",
        "**For batch optimization (or in noisy settings), we strongly recommend using $q$NEHVI rather than $q$EHVI because it is far more efficient than $q$EHVI and mathematically equivalent in the noiseless setting.**"
      ]
    },
    {
      "cell_type": "markdown",
      "metadata": {
        "originalKey": "f01416cb-e83e-4263-b599-b2a3221d144d",
        "showInput": false
      },
      "source": [
        "### Set dtype and device\n",
        "Note: $q$EHVI and $q$NEHVI aggressively exploit parallel hardware and are both much faster when run on a GPU. See [1, 2] for details."
      ]
    },
    {
      "cell_type": "code",
      "execution_count": 1,
      "metadata": {},
      "outputs": [],
      "source": [
        "# Install dependencies if we are running in colab\n",
        "import sys\n",
        "if 'google.colab' in sys.modules:\n",
        "    %pip install botorch"
      ]
    },
    {
      "cell_type": "code",
      "execution_count": 2,
      "metadata": {
        "collapsed": false,
        "customOutput": null,
        "executionStartTime": 1668649461840,
        "executionStopTime": 1668649461848,
        "originalKey": "41c30177-379b-4e63-9996-41bc17d70769",
        "requestMsgId": "7e4820a5-df3b-45a6-9826-42541ee0f4f4"
      },
      "outputs": [],
      "source": [
        "import os\n",
        "import torch\n",
        "\n",
        "\n",
        "tkwargs = {\n",
        "    \"dtype\": torch.double,\n",
        "    \"device\": torch.device(\"cuda\" if torch.cuda.is_available() else \"cpu\"),\n",
        "}\n",
        "SMOKE_TEST = os.environ.get(\"SMOKE_TEST\")"
      ]
    },
    {
      "cell_type": "markdown",
      "metadata": {
        "originalKey": "8d895a93-397c-4d2c-b6f5-96f589312538",
        "showInput": false
      },
      "source": [
        "### Problem setup\n"
      ]
    },
    {
      "cell_type": "code",
      "execution_count": 3,
      "metadata": {
        "collapsed": false,
        "customOutput": null,
        "executionStartTime": 1668649462081,
        "executionStopTime": 1668649462087,
        "originalKey": "a8741d41-72b7-42e8-bd5d-3972be9995f7",
        "requestMsgId": "bceaa0af-ffe5-415a-a5b1-93fc9cf7f71a"
      },
      "outputs": [
        {
          "name": "stderr",
          "output_type": "stream",
          "text": [
            "/home/lewis/1project/bayesian_batch_phy_opt/venv/lib/python3.12/site-packages/tqdm/auto.py:21: TqdmWarning: IProgress not found. Please update jupyter and ipywidgets. See https://ipywidgets.readthedocs.io/en/stable/user_install.html\n",
            "  from .autonotebook import tqdm as notebook_tqdm\n"
          ]
        }
      ],
      "source": [
        "from botorch.test_functions.multi_objective import BraninCurrin\n",
        "\n",
        "\n",
        "problem = BraninCurrin(negate=True).to(**tkwargs)"
      ]
    },
    {
      "cell_type": "markdown",
      "metadata": {
        "originalKey": "fc047039-c2a9-4ea8-920e-c057547cfb11",
        "showInput": false
      },
      "source": [
        "#### Model initialization\n",
        "\n",
        "We use a list of `SingleTaskGP`s to model the two objectives with known noise variances. If no noise variances were provided, `SingleTaskGP` would infer (homoskedastic) noise levels instead.\n",
        "\n",
        "The models are initialized with $2(d+1)=6$ points drawn randomly from $[0,1]^2$."
      ]
    },
    {
      "cell_type": "code",
      "execution_count": 4,
      "metadata": {
        "collapsed": false,
        "customOutput": null,
        "executionStartTime": 1668649462312,
        "executionStopTime": 1668649462318,
        "originalKey": "47170c31-65e4-4f2d-949c-d91544e065fc",
        "requestMsgId": "8a44b7cb-cc5f-419e-849f-2b4d1dc3abe1"
      },
      "outputs": [],
      "source": [
        "from botorch.models.gp_regression import SingleTaskGP\n",
        "from botorch.models.model_list_gp_regression import ModelListGP\n",
        "from botorch.models.transforms.outcome import Standardize\n",
        "from gpytorch.mlls.sum_marginal_log_likelihood import SumMarginalLogLikelihood\n",
        "from botorch.utils.transforms import unnormalize, normalize\n",
        "from botorch.utils.sampling import draw_sobol_samples\n",
        "\n",
        "NOISE_SE = torch.tensor([15.19, 0.63], **tkwargs)\n",
        "\n",
        "\n",
        "def generate_initial_data(n=6):\n",
        "    # generate training data\n",
        "    train_x = draw_sobol_samples(bounds=problem.bounds, n=n, q=1).squeeze(1)\n",
        "    train_obj_true = problem(train_x)\n",
        "    train_obj = train_obj_true + torch.randn_like(train_obj_true) * NOISE_SE\n",
        "    return train_x, train_obj, train_obj_true\n",
        "\n",
        "\n",
        "def initialize_model(train_x, train_obj):\n",
        "    # define models for objective and constraint\n",
        "    train_x = normalize(train_x, problem.bounds)\n",
        "    models = []\n",
        "    for i in range(train_obj.shape[-1]):\n",
        "        train_y = train_obj[..., i : i + 1]\n",
        "        train_yvar = torch.full_like(train_y, NOISE_SE[i] ** 2)\n",
        "        models.append(\n",
        "            SingleTaskGP(\n",
        "                train_x, train_y, train_yvar, outcome_transform=Standardize(m=1)\n",
        "            )\n",
        "        )\n",
        "    model = ModelListGP(*models)\n",
        "    mll = SumMarginalLogLikelihood(model.likelihood, model)\n",
        "    return mll, model"
      ]
    },
    {
      "cell_type": "markdown",
      "metadata": {
        "originalKey": "6bfaef9a-3f34-4d51-9700-fbddc79eccf1",
        "showInput": false
      },
      "source": [
        "#### Define a helper functions that performs the essential BO step for $q$EHVI and $q$NEHVI\n",
        "The helper function below initializes the $q$EHVI acquisition function, optimizes it, and returns the batch $\\{x_1, x_2, \\ldots x_q\\}$ along with the observed function values. \n",
        "\n",
        "For this example, we'll use a relatively small batch of optimization ($q=4$). For batch optimization ($q>1$), passing the keyword argument `sequential=True` to the function `optimize_acqf`specifies that candidates should be optimized in a sequential greedy fashion (see [1] for details why this is important). A simple initialization heuristic is used to select the 10 restart initial locations from a set of 512 random points. Multi-start optimization of the acquisition function is performed using LBFGS-B with exact gradients computed via auto-differentiation.\n",
        "\n",
        "**Reference Point**\n",
        "\n",
        "$q$EHVI requires specifying a reference point, which is the lower bound on the objectives used for computing hypervolume. In this tutorial, we assume the reference point is known. In practice the reference point can be set 1) using domain knowledge to be slightly worse than the lower bound of objective values, where the lower bound is the minimum acceptable value of interest for each objective, or 2) using a dynamic reference point selection strategy.\n",
        "\n",
        "**Partitioning the Non-dominated Space into disjoint rectangles**\n",
        "\n",
        "$q$EHVI requires partitioning the non-dominated space into disjoint rectangles (see [1] for details). \n",
        "\n",
        "*Note:* `FastNondominatedPartitioning` *will be very slow when 1) there are a lot of points on the pareto frontier and 2) there are >5 objectives.*"
      ]
    },
    {
      "cell_type": "code",
      "execution_count": 5,
      "metadata": {
        "collapsed": false,
        "customOutput": null,
        "executionStartTime": 1668649462539,
        "executionStopTime": 1668649462641,
        "originalKey": "b7effe94-1327-405d-9148-c8e93470b846",
        "requestMsgId": "40a5edda-3bee-43c9-b84b-c669c288eb80"
      },
      "outputs": [],
      "source": [
        "from botorch.optim.optimize import optimize_acqf, optimize_acqf_list\n",
        "from botorch.acquisition.objective import GenericMCObjective\n",
        "from botorch.utils.multi_objective.scalarization import get_chebyshev_scalarization\n",
        "from botorch.utils.multi_objective.box_decompositions.non_dominated import (\n",
        "    FastNondominatedPartitioning,\n",
        ")\n",
        "from botorch.acquisition.multi_objective.monte_carlo import (\n",
        "    qExpectedHypervolumeImprovement,\n",
        "    qNoisyExpectedHypervolumeImprovement,\n",
        ")\n",
        "from botorch.utils.sampling import sample_simplex\n",
        "\n",
        "\n",
        "BATCH_SIZE = 4\n",
        "NUM_RESTARTS = 10 if not SMOKE_TEST else 2\n",
        "RAW_SAMPLES = 512 if not SMOKE_TEST else 4\n",
        "\n",
        "standard_bounds = torch.zeros(2, problem.dim, **tkwargs)\n",
        "standard_bounds[1] = 1\n",
        "\n",
        "\n",
        "def optimize_qehvi_and_get_observation(model, train_x, train_obj, sampler):\n",
        "    \"\"\"Optimizes the qEHVI acquisition function, and returns a new candidate and observation.\"\"\"\n",
        "    # partition non-dominated space into disjoint rectangles\n",
        "    with torch.no_grad():\n",
        "        pred = model.posterior(normalize(train_x, problem.bounds)).mean\n",
        "    partitioning = FastNondominatedPartitioning(\n",
        "        ref_point=problem.ref_point,\n",
        "        Y=pred,\n",
        "    )\n",
        "    acq_func = qExpectedHypervolumeImprovement(\n",
        "        model=model,\n",
        "        ref_point=problem.ref_point,\n",
        "        partitioning=partitioning,\n",
        "        sampler=sampler,\n",
        "    )\n",
        "    # optimize\n",
        "    candidates, _ = optimize_acqf(\n",
        "        acq_function=acq_func,\n",
        "        bounds=standard_bounds,\n",
        "        q=BATCH_SIZE,\n",
        "        num_restarts=NUM_RESTARTS,\n",
        "        raw_samples=RAW_SAMPLES,  # used for intialization heuristic\n",
        "        options={\"batch_limit\": 5, \"maxiter\": 200},\n",
        "        sequential=True,\n",
        "    )\n",
        "    # observe new values\n",
        "    new_x = unnormalize(candidates.detach(), bounds=problem.bounds)\n",
        "    new_obj_true = problem(new_x)\n",
        "    new_obj = new_obj_true + torch.randn_like(new_obj_true) * NOISE_SE\n",
        "    return new_x, new_obj, new_obj_true"
      ]
    },
    {
      "cell_type": "markdown",
      "metadata": {
        "originalKey": "ccaf56e2-f0e0-4d1c-bf07-247d984535a5",
        "showInput": false
      },
      "source": [
        "**Integrating over function values at in-sample designs**\n",
        "\n",
        "$q$NEHVI integrates over the unknown function values at the previously evaluated designs (see [2] for details). Therefore, we need to provide the previously evaluated designs (`train_x`, *normalized* to be within $[0,1]^d$) to the acquisition function.\n",
        "\n",
        "**Efficient batch generation with Cached Box Decomposition (CBD)**\n",
        "\n",
        "$q$NEHVI leveraged CBD to efficiently generate large batches of candidates. CBD scales polynomially with respect to the batch size where as the inclusion-exclusion principle used by qEHVI scales exponentially with the batch size.\n",
        "\n",
        "**Pruning baseline designs**\n",
        "To speed up integration over the function values at the previously evaluated designs, we prune the set of previously evaluated designs (by setting `prune_baseline=True`) to only include those which have positive probability of being on the current in-sample Pareto frontier."
      ]
    },
    {
      "cell_type": "code",
      "execution_count": 6,
      "metadata": {
        "collapsed": false,
        "customOutput": null,
        "executionStartTime": 1668649462860,
        "executionStopTime": 1668649462867,
        "originalKey": "f2749e5f-eb94-4150-8f52-057f90e08b39",
        "requestMsgId": "f9e71b3c-2eb6-4b79-92c5-72d16d368233"
      },
      "outputs": [],
      "source": [
        "def optimize_qnehvi_and_get_observation(model, train_x, train_obj, sampler):\n",
        "    \"\"\"Optimizes the qEHVI acquisition function, and returns a new candidate and observation.\"\"\"\n",
        "    # partition non-dominated space into disjoint rectangles\n",
        "    acq_func = qNoisyExpectedHypervolumeImprovement(\n",
        "        model=model,\n",
        "        ref_point=problem.ref_point.tolist(),  # use known reference point\n",
        "        X_baseline=normalize(train_x, problem.bounds),\n",
        "        prune_baseline=True,  # prune baseline points that have estimated zero probability of being Pareto optimal\n",
        "        sampler=sampler,\n",
        "    )\n",
        "    # optimize\n",
        "    candidates, _ = optimize_acqf(\n",
        "        acq_function=acq_func,\n",
        "        bounds=standard_bounds,\n",
        "        q=BATCH_SIZE,\n",
        "        num_restarts=NUM_RESTARTS,\n",
        "        raw_samples=RAW_SAMPLES,  # used for intialization heuristic\n",
        "        options={\"batch_limit\": 5, \"maxiter\": 200},\n",
        "        sequential=True,\n",
        "    )\n",
        "    # observe new values\n",
        "    new_x = unnormalize(candidates.detach(), bounds=problem.bounds)\n",
        "    new_obj_true = problem(new_x)\n",
        "    new_obj = new_obj_true + torch.randn_like(new_obj_true) * NOISE_SE\n",
        "    return new_x, new_obj, new_obj_true"
      ]
    },
    {
      "cell_type": "markdown",
      "metadata": {
        "originalKey": "ad78607d-d910-441c-903b-b15dc77a432f",
        "showInput": false
      },
      "source": [
        "#### Define a helper function that performs the essential BO step for $q$NParEGO\n",
        "The helper function below similarly initializes $q$NParEGO, optimizes it, and returns the batch $\\{x_1, x_2, \\ldots x_q\\}$ along with the observed function values. \n",
        "\n",
        "$q$NParEGO uses random augmented chebyshev scalarization with the `qNoisyExpectedImprovement` acquisition function. In the parallel setting ($q>1$), each candidate is optimized in sequential greedy fashion using a different random scalarization (see [1] for details).\n",
        "\n",
        "To do this, we create a list of `qNoisyExpectedImprovement` acquisition functions, each with different random scalarization weights. The `optimize_acqf_list` method sequentially generates one candidate per acquisition function and conditions the next candidate (and acquisition function) on the previously selected pending candidates."
      ]
    },
    {
      "cell_type": "code",
      "execution_count": 7,
      "metadata": {
        "collapsed": false,
        "customOutput": null,
        "executionStartTime": 1668649463087,
        "executionStopTime": 1668649463185,
        "originalKey": "806b115f-a15f-44df-b7f9-d2f098969e02",
        "requestMsgId": "514d162f-78e0-447a-a483-c923cba18b80"
      },
      "outputs": [],
      "source": [
        "from botorch.acquisition.monte_carlo import qNoisyExpectedImprovement\n",
        "\n",
        "\n",
        "def optimize_qnparego_and_get_observation(model, train_x, train_obj, sampler):\n",
        "    \"\"\"Samples a set of random weights for each candidate in the batch, performs sequential greedy optimization\n",
        "    of the qNParEGO acquisition function, and returns a new candidate and observation.\"\"\"\n",
        "    train_x = normalize(train_x, problem.bounds)\n",
        "    with torch.no_grad():\n",
        "        pred = model.posterior(train_x).mean\n",
        "    acq_func_list = []\n",
        "    for _ in range(BATCH_SIZE):\n",
        "        weights = sample_simplex(problem.num_objectives, **tkwargs).squeeze()\n",
        "        objective = GenericMCObjective(\n",
        "            get_chebyshev_scalarization(weights=weights, Y=pred)\n",
        "        )\n",
        "        acq_func = qNoisyExpectedImprovement(  # pyre-ignore: [28]\n",
        "            model=model,\n",
        "            objective=objective,\n",
        "            X_baseline=train_x,\n",
        "            sampler=sampler,\n",
        "            prune_baseline=True,\n",
        "        )\n",
        "        acq_func_list.append(acq_func)\n",
        "    # optimize\n",
        "    candidates, _ = optimize_acqf_list(\n",
        "        acq_function_list=acq_func_list,\n",
        "        bounds=standard_bounds,\n",
        "        num_restarts=NUM_RESTARTS,\n",
        "        raw_samples=RAW_SAMPLES,  # used for intialization heuristic\n",
        "        options={\"batch_limit\": 5, \"maxiter\": 200},\n",
        "    )\n",
        "    # observe new values\n",
        "    new_x = unnormalize(candidates.detach(), bounds=problem.bounds)\n",
        "    new_obj_true = problem(new_x)\n",
        "    new_obj = new_obj_true + torch.randn_like(new_obj_true) * NOISE_SE\n",
        "    return new_x, new_obj, new_obj_true"
      ]
    },
    {
      "cell_type": "markdown",
      "metadata": {
        "originalKey": "f8ffd86a-f4bb-4984-9330-04ff4d62f189",
        "showInput": false
      },
      "source": [
        "### Perform Bayesian Optimization loop with $q$NEHVI, $q$EHVI, and $q$NParEGO\n",
        "The Bayesian optimization \"loop\" for a batch size of $q$ simply iterates the following steps:\n",
        "1. given a surrogate model, choose a batch of points $\\{x_1, x_2, \\ldots x_q\\}$\n",
        "2. observe $f(x)$ for each $x$ in the batch \n",
        "3. update the surrogate model. \n",
        "\n",
        "\n",
        "Just for illustration purposes, we run one trial with `N_BATCH=20` rounds of optimization. The acquisition function is approximated using `MC_SAMPLES=128` samples.\n",
        "\n",
        "*Note*: Running this may take a little while."
      ]
    },
    {
      "cell_type": "code",
      "execution_count": 8,
      "metadata": {
        "collapsed": false,
        "customOutput": null,
        "executionStartTime": 1668649463513,
        "executionStopTime": 1668649856754,
        "originalKey": "c29b731a-64e7-401d-a5b2-3879d8d39327",
        "requestMsgId": "43e1021f-9ecd-4d2c-a7ba-21e26051ce66"
      },
      "outputs": [
        {
          "name": "stderr",
          "output_type": "stream",
          "text": [
            "/home/lewis/1project/bayesian_batch_phy_opt/venv/lib/python3.12/site-packages/botorch/acquisition/monte_carlo.py:496: NumericsWarning: qNoisyExpectedImprovement has known numerical issues that lead to suboptimal optimization performance. It is strongly recommended to simply replace\n",
            "\n",
            "\t qNoisyExpectedImprovement \t --> \t qLogNoisyExpectedImprovement \n",
            "\n",
            "instead, which fixes the issues and has the same API. See https://arxiv.org/abs/2310.20708 for details.\n",
            "  legacy_ei_numerics_warning(legacy_name=type(self).__name__)\n",
            "/home/lewis/1project/bayesian_batch_phy_opt/venv/lib/python3.12/site-packages/botorch/acquisition/multi_objective/monte_carlo.py:111: NumericsWarning: qExpectedHypervolumeImprovement has known numerical issues that lead to suboptimal optimization performance. It is strongly recommended to simply replace\n",
            "\n",
            "\t qExpectedHypervolumeImprovement \t --> \t qLogExpectedHypervolumeImprovement \n",
            "\n",
            "instead, which fixes the issues and has the same API. See https://arxiv.org/abs/2310.20708 for details.\n",
            "  legacy_ei_numerics_warning(legacy_name=type(self).__name__)\n",
            "/home/lewis/1project/bayesian_batch_phy_opt/venv/lib/python3.12/site-packages/botorch/acquisition/multi_objective/monte_carlo.py:321: NumericsWarning: qNoisyExpectedHypervolumeImprovement has known numerical issues that lead to suboptimal optimization performance. It is strongly recommended to simply replace\n",
            "\n",
            "\t qNoisyExpectedHypervolumeImprovement \t --> \t qLogNoisyExpectedHypervolumeImprovement \n",
            "\n",
            "instead, which fixes the issues and has the same API. See https://arxiv.org/abs/2310.20708 for details.\n",
            "  legacy_ei_numerics_warning(legacy_name=type(self).__name__)\n"
          ]
        },
        {
          "name": "stdout",
          "output_type": "stream",
          "text": [
            "\n",
            "Batch  1: Hypervolume (random, qNParEGO, qEHVI, qNEHVI) = (11.74, 13.41, 13.63, 13.63), time = 23.52."
          ]
        },
        {
          "name": "stderr",
          "output_type": "stream",
          "text": [
            "/home/lewis/1project/bayesian_batch_phy_opt/venv/lib/python3.12/site-packages/botorch/acquisition/monte_carlo.py:496: NumericsWarning: qNoisyExpectedImprovement has known numerical issues that lead to suboptimal optimization performance. It is strongly recommended to simply replace\n",
            "\n",
            "\t qNoisyExpectedImprovement \t --> \t qLogNoisyExpectedImprovement \n",
            "\n",
            "instead, which fixes the issues and has the same API. See https://arxiv.org/abs/2310.20708 for details.\n",
            "  legacy_ei_numerics_warning(legacy_name=type(self).__name__)\n",
            "/home/lewis/1project/bayesian_batch_phy_opt/venv/lib/python3.12/site-packages/botorch/acquisition/multi_objective/monte_carlo.py:111: NumericsWarning: qExpectedHypervolumeImprovement has known numerical issues that lead to suboptimal optimization performance. It is strongly recommended to simply replace\n",
            "\n",
            "\t qExpectedHypervolumeImprovement \t --> \t qLogExpectedHypervolumeImprovement \n",
            "\n",
            "instead, which fixes the issues and has the same API. See https://arxiv.org/abs/2310.20708 for details.\n",
            "  legacy_ei_numerics_warning(legacy_name=type(self).__name__)\n",
            "/home/lewis/1project/bayesian_batch_phy_opt/venv/lib/python3.12/site-packages/botorch/acquisition/multi_objective/monte_carlo.py:321: NumericsWarning: qNoisyExpectedHypervolumeImprovement has known numerical issues that lead to suboptimal optimization performance. It is strongly recommended to simply replace\n",
            "\n",
            "\t qNoisyExpectedHypervolumeImprovement \t --> \t qLogNoisyExpectedHypervolumeImprovement \n",
            "\n",
            "instead, which fixes the issues and has the same API. See https://arxiv.org/abs/2310.20708 for details.\n",
            "  legacy_ei_numerics_warning(legacy_name=type(self).__name__)\n"
          ]
        },
        {
          "name": "stdout",
          "output_type": "stream",
          "text": [
            "\n",
            "Batch  2: Hypervolume (random, qNParEGO, qEHVI, qNEHVI) = (11.74, 13.41, 41.58, 34.89), time = 31.35."
          ]
        },
        {
          "name": "stderr",
          "output_type": "stream",
          "text": [
            "/home/lewis/1project/bayesian_batch_phy_opt/venv/lib/python3.12/site-packages/botorch/acquisition/monte_carlo.py:496: NumericsWarning: qNoisyExpectedImprovement has known numerical issues that lead to suboptimal optimization performance. It is strongly recommended to simply replace\n",
            "\n",
            "\t qNoisyExpectedImprovement \t --> \t qLogNoisyExpectedImprovement \n",
            "\n",
            "instead, which fixes the issues and has the same API. See https://arxiv.org/abs/2310.20708 for details.\n",
            "  legacy_ei_numerics_warning(legacy_name=type(self).__name__)\n",
            "/home/lewis/1project/bayesian_batch_phy_opt/venv/lib/python3.12/site-packages/botorch/acquisition/multi_objective/monte_carlo.py:111: NumericsWarning: qExpectedHypervolumeImprovement has known numerical issues that lead to suboptimal optimization performance. It is strongly recommended to simply replace\n",
            "\n",
            "\t qExpectedHypervolumeImprovement \t --> \t qLogExpectedHypervolumeImprovement \n",
            "\n",
            "instead, which fixes the issues and has the same API. See https://arxiv.org/abs/2310.20708 for details.\n",
            "  legacy_ei_numerics_warning(legacy_name=type(self).__name__)\n",
            "/home/lewis/1project/bayesian_batch_phy_opt/venv/lib/python3.12/site-packages/botorch/acquisition/multi_objective/monte_carlo.py:321: NumericsWarning: qNoisyExpectedHypervolumeImprovement has known numerical issues that lead to suboptimal optimization performance. It is strongly recommended to simply replace\n",
            "\n",
            "\t qNoisyExpectedHypervolumeImprovement \t --> \t qLogNoisyExpectedHypervolumeImprovement \n",
            "\n",
            "instead, which fixes the issues and has the same API. See https://arxiv.org/abs/2310.20708 for details.\n",
            "  legacy_ei_numerics_warning(legacy_name=type(self).__name__)\n"
          ]
        },
        {
          "name": "stdout",
          "output_type": "stream",
          "text": [
            "\n",
            "Batch  3: Hypervolume (random, qNParEGO, qEHVI, qNEHVI) = (29.73, 36.57, 44.10, 45.81), time = 26.37."
          ]
        },
        {
          "name": "stderr",
          "output_type": "stream",
          "text": [
            "/home/lewis/1project/bayesian_batch_phy_opt/venv/lib/python3.12/site-packages/botorch/acquisition/monte_carlo.py:496: NumericsWarning: qNoisyExpectedImprovement has known numerical issues that lead to suboptimal optimization performance. It is strongly recommended to simply replace\n",
            "\n",
            "\t qNoisyExpectedImprovement \t --> \t qLogNoisyExpectedImprovement \n",
            "\n",
            "instead, which fixes the issues and has the same API. See https://arxiv.org/abs/2310.20708 for details.\n",
            "  legacy_ei_numerics_warning(legacy_name=type(self).__name__)\n",
            "/home/lewis/1project/bayesian_batch_phy_opt/venv/lib/python3.12/site-packages/botorch/acquisition/multi_objective/monte_carlo.py:111: NumericsWarning: qExpectedHypervolumeImprovement has known numerical issues that lead to suboptimal optimization performance. It is strongly recommended to simply replace\n",
            "\n",
            "\t qExpectedHypervolumeImprovement \t --> \t qLogExpectedHypervolumeImprovement \n",
            "\n",
            "instead, which fixes the issues and has the same API. See https://arxiv.org/abs/2310.20708 for details.\n",
            "  legacy_ei_numerics_warning(legacy_name=type(self).__name__)\n",
            "/home/lewis/1project/bayesian_batch_phy_opt/venv/lib/python3.12/site-packages/botorch/acquisition/multi_objective/monte_carlo.py:321: NumericsWarning: qNoisyExpectedHypervolumeImprovement has known numerical issues that lead to suboptimal optimization performance. It is strongly recommended to simply replace\n",
            "\n",
            "\t qNoisyExpectedHypervolumeImprovement \t --> \t qLogNoisyExpectedHypervolumeImprovement \n",
            "\n",
            "instead, which fixes the issues and has the same API. See https://arxiv.org/abs/2310.20708 for details.\n",
            "  legacy_ei_numerics_warning(legacy_name=type(self).__name__)\n"
          ]
        },
        {
          "name": "stdout",
          "output_type": "stream",
          "text": [
            "\n",
            "Batch  4: Hypervolume (random, qNParEGO, qEHVI, qNEHVI) = (29.73, 36.57, 44.34, 47.16), time = 30.88."
          ]
        },
        {
          "name": "stderr",
          "output_type": "stream",
          "text": [
            "/home/lewis/1project/bayesian_batch_phy_opt/venv/lib/python3.12/site-packages/botorch/acquisition/monte_carlo.py:496: NumericsWarning: qNoisyExpectedImprovement has known numerical issues that lead to suboptimal optimization performance. It is strongly recommended to simply replace\n",
            "\n",
            "\t qNoisyExpectedImprovement \t --> \t qLogNoisyExpectedImprovement \n",
            "\n",
            "instead, which fixes the issues and has the same API. See https://arxiv.org/abs/2310.20708 for details.\n",
            "  legacy_ei_numerics_warning(legacy_name=type(self).__name__)\n",
            "/home/lewis/1project/bayesian_batch_phy_opt/venv/lib/python3.12/site-packages/botorch/acquisition/multi_objective/monte_carlo.py:111: NumericsWarning: qExpectedHypervolumeImprovement has known numerical issues that lead to suboptimal optimization performance. It is strongly recommended to simply replace\n",
            "\n",
            "\t qExpectedHypervolumeImprovement \t --> \t qLogExpectedHypervolumeImprovement \n",
            "\n",
            "instead, which fixes the issues and has the same API. See https://arxiv.org/abs/2310.20708 for details.\n",
            "  legacy_ei_numerics_warning(legacy_name=type(self).__name__)\n",
            "/home/lewis/1project/bayesian_batch_phy_opt/venv/lib/python3.12/site-packages/botorch/acquisition/multi_objective/monte_carlo.py:321: NumericsWarning: qNoisyExpectedHypervolumeImprovement has known numerical issues that lead to suboptimal optimization performance. It is strongly recommended to simply replace\n",
            "\n",
            "\t qNoisyExpectedHypervolumeImprovement \t --> \t qLogNoisyExpectedHypervolumeImprovement \n",
            "\n",
            "instead, which fixes the issues and has the same API. See https://arxiv.org/abs/2310.20708 for details.\n",
            "  legacy_ei_numerics_warning(legacy_name=type(self).__name__)\n"
          ]
        },
        {
          "name": "stdout",
          "output_type": "stream",
          "text": [
            "\n",
            "Batch  5: Hypervolume (random, qNParEGO, qEHVI, qNEHVI) = (29.73, 39.11, 44.89, 49.25), time = 31.42."
          ]
        },
        {
          "name": "stderr",
          "output_type": "stream",
          "text": [
            "/home/lewis/1project/bayesian_batch_phy_opt/venv/lib/python3.12/site-packages/botorch/acquisition/monte_carlo.py:496: NumericsWarning: qNoisyExpectedImprovement has known numerical issues that lead to suboptimal optimization performance. It is strongly recommended to simply replace\n",
            "\n",
            "\t qNoisyExpectedImprovement \t --> \t qLogNoisyExpectedImprovement \n",
            "\n",
            "instead, which fixes the issues and has the same API. See https://arxiv.org/abs/2310.20708 for details.\n",
            "  legacy_ei_numerics_warning(legacy_name=type(self).__name__)\n",
            "/home/lewis/1project/bayesian_batch_phy_opt/venv/lib/python3.12/site-packages/botorch/acquisition/multi_objective/monte_carlo.py:111: NumericsWarning: qExpectedHypervolumeImprovement has known numerical issues that lead to suboptimal optimization performance. It is strongly recommended to simply replace\n",
            "\n",
            "\t qExpectedHypervolumeImprovement \t --> \t qLogExpectedHypervolumeImprovement \n",
            "\n",
            "instead, which fixes the issues and has the same API. See https://arxiv.org/abs/2310.20708 for details.\n",
            "  legacy_ei_numerics_warning(legacy_name=type(self).__name__)\n",
            "/home/lewis/1project/bayesian_batch_phy_opt/venv/lib/python3.12/site-packages/botorch/acquisition/multi_objective/monte_carlo.py:321: NumericsWarning: qNoisyExpectedHypervolumeImprovement has known numerical issues that lead to suboptimal optimization performance. It is strongly recommended to simply replace\n",
            "\n",
            "\t qNoisyExpectedHypervolumeImprovement \t --> \t qLogNoisyExpectedHypervolumeImprovement \n",
            "\n",
            "instead, which fixes the issues and has the same API. See https://arxiv.org/abs/2310.20708 for details.\n",
            "  legacy_ei_numerics_warning(legacy_name=type(self).__name__)\n"
          ]
        },
        {
          "name": "stdout",
          "output_type": "stream",
          "text": [
            "\n",
            "Batch  6: Hypervolume (random, qNParEGO, qEHVI, qNEHVI) = (29.73, 43.84, 46.43, 52.29), time = 36.43."
          ]
        },
        {
          "name": "stderr",
          "output_type": "stream",
          "text": [
            "/home/lewis/1project/bayesian_batch_phy_opt/venv/lib/python3.12/site-packages/botorch/acquisition/monte_carlo.py:496: NumericsWarning: qNoisyExpectedImprovement has known numerical issues that lead to suboptimal optimization performance. It is strongly recommended to simply replace\n",
            "\n",
            "\t qNoisyExpectedImprovement \t --> \t qLogNoisyExpectedImprovement \n",
            "\n",
            "instead, which fixes the issues and has the same API. See https://arxiv.org/abs/2310.20708 for details.\n",
            "  legacy_ei_numerics_warning(legacy_name=type(self).__name__)\n",
            "/home/lewis/1project/bayesian_batch_phy_opt/venv/lib/python3.12/site-packages/botorch/acquisition/multi_objective/monte_carlo.py:111: NumericsWarning: qExpectedHypervolumeImprovement has known numerical issues that lead to suboptimal optimization performance. It is strongly recommended to simply replace\n",
            "\n",
            "\t qExpectedHypervolumeImprovement \t --> \t qLogExpectedHypervolumeImprovement \n",
            "\n",
            "instead, which fixes the issues and has the same API. See https://arxiv.org/abs/2310.20708 for details.\n",
            "  legacy_ei_numerics_warning(legacy_name=type(self).__name__)\n",
            "/home/lewis/1project/bayesian_batch_phy_opt/venv/lib/python3.12/site-packages/botorch/acquisition/multi_objective/monte_carlo.py:321: NumericsWarning: qNoisyExpectedHypervolumeImprovement has known numerical issues that lead to suboptimal optimization performance. It is strongly recommended to simply replace\n",
            "\n",
            "\t qNoisyExpectedHypervolumeImprovement \t --> \t qLogNoisyExpectedHypervolumeImprovement \n",
            "\n",
            "instead, which fixes the issues and has the same API. See https://arxiv.org/abs/2310.20708 for details.\n",
            "  legacy_ei_numerics_warning(legacy_name=type(self).__name__)\n"
          ]
        },
        {
          "name": "stdout",
          "output_type": "stream",
          "text": [
            "\n",
            "Batch  7: Hypervolume (random, qNParEGO, qEHVI, qNEHVI) = (29.73, 43.84, 47.91, 52.29), time = 31.05."
          ]
        },
        {
          "name": "stderr",
          "output_type": "stream",
          "text": [
            "/home/lewis/1project/bayesian_batch_phy_opt/venv/lib/python3.12/site-packages/botorch/acquisition/monte_carlo.py:496: NumericsWarning: qNoisyExpectedImprovement has known numerical issues that lead to suboptimal optimization performance. It is strongly recommended to simply replace\n",
            "\n",
            "\t qNoisyExpectedImprovement \t --> \t qLogNoisyExpectedImprovement \n",
            "\n",
            "instead, which fixes the issues and has the same API. See https://arxiv.org/abs/2310.20708 for details.\n",
            "  legacy_ei_numerics_warning(legacy_name=type(self).__name__)\n",
            "/home/lewis/1project/bayesian_batch_phy_opt/venv/lib/python3.12/site-packages/botorch/acquisition/multi_objective/monte_carlo.py:111: NumericsWarning: qExpectedHypervolumeImprovement has known numerical issues that lead to suboptimal optimization performance. It is strongly recommended to simply replace\n",
            "\n",
            "\t qExpectedHypervolumeImprovement \t --> \t qLogExpectedHypervolumeImprovement \n",
            "\n",
            "instead, which fixes the issues and has the same API. See https://arxiv.org/abs/2310.20708 for details.\n",
            "  legacy_ei_numerics_warning(legacy_name=type(self).__name__)\n",
            "/home/lewis/1project/bayesian_batch_phy_opt/venv/lib/python3.12/site-packages/botorch/acquisition/multi_objective/monte_carlo.py:321: NumericsWarning: qNoisyExpectedHypervolumeImprovement has known numerical issues that lead to suboptimal optimization performance. It is strongly recommended to simply replace\n",
            "\n",
            "\t qNoisyExpectedHypervolumeImprovement \t --> \t qLogNoisyExpectedHypervolumeImprovement \n",
            "\n",
            "instead, which fixes the issues and has the same API. See https://arxiv.org/abs/2310.20708 for details.\n",
            "  legacy_ei_numerics_warning(legacy_name=type(self).__name__)\n"
          ]
        },
        {
          "name": "stdout",
          "output_type": "stream",
          "text": [
            "\n",
            "Batch  8: Hypervolume (random, qNParEGO, qEHVI, qNEHVI) = (29.73, 46.46, 48.28, 54.06), time = 28.72."
          ]
        },
        {
          "name": "stderr",
          "output_type": "stream",
          "text": [
            "/home/lewis/1project/bayesian_batch_phy_opt/venv/lib/python3.12/site-packages/botorch/acquisition/monte_carlo.py:496: NumericsWarning: qNoisyExpectedImprovement has known numerical issues that lead to suboptimal optimization performance. It is strongly recommended to simply replace\n",
            "\n",
            "\t qNoisyExpectedImprovement \t --> \t qLogNoisyExpectedImprovement \n",
            "\n",
            "instead, which fixes the issues and has the same API. See https://arxiv.org/abs/2310.20708 for details.\n",
            "  legacy_ei_numerics_warning(legacy_name=type(self).__name__)\n",
            "/home/lewis/1project/bayesian_batch_phy_opt/venv/lib/python3.12/site-packages/botorch/acquisition/multi_objective/monte_carlo.py:111: NumericsWarning: qExpectedHypervolumeImprovement has known numerical issues that lead to suboptimal optimization performance. It is strongly recommended to simply replace\n",
            "\n",
            "\t qExpectedHypervolumeImprovement \t --> \t qLogExpectedHypervolumeImprovement \n",
            "\n",
            "instead, which fixes the issues and has the same API. See https://arxiv.org/abs/2310.20708 for details.\n",
            "  legacy_ei_numerics_warning(legacy_name=type(self).__name__)\n",
            "/home/lewis/1project/bayesian_batch_phy_opt/venv/lib/python3.12/site-packages/botorch/acquisition/multi_objective/monte_carlo.py:321: NumericsWarning: qNoisyExpectedHypervolumeImprovement has known numerical issues that lead to suboptimal optimization performance. It is strongly recommended to simply replace\n",
            "\n",
            "\t qNoisyExpectedHypervolumeImprovement \t --> \t qLogNoisyExpectedHypervolumeImprovement \n",
            "\n",
            "instead, which fixes the issues and has the same API. See https://arxiv.org/abs/2310.20708 for details.\n",
            "  legacy_ei_numerics_warning(legacy_name=type(self).__name__)\n"
          ]
        },
        {
          "name": "stdout",
          "output_type": "stream",
          "text": [
            "\n",
            "Batch  9: Hypervolume (random, qNParEGO, qEHVI, qNEHVI) = (29.73, 47.58, 49.41, 54.97), time = 41.23."
          ]
        },
        {
          "name": "stderr",
          "output_type": "stream",
          "text": [
            "/home/lewis/1project/bayesian_batch_phy_opt/venv/lib/python3.12/site-packages/botorch/acquisition/monte_carlo.py:496: NumericsWarning: qNoisyExpectedImprovement has known numerical issues that lead to suboptimal optimization performance. It is strongly recommended to simply replace\n",
            "\n",
            "\t qNoisyExpectedImprovement \t --> \t qLogNoisyExpectedImprovement \n",
            "\n",
            "instead, which fixes the issues and has the same API. See https://arxiv.org/abs/2310.20708 for details.\n",
            "  legacy_ei_numerics_warning(legacy_name=type(self).__name__)\n",
            "/home/lewis/1project/bayesian_batch_phy_opt/venv/lib/python3.12/site-packages/botorch/acquisition/multi_objective/monte_carlo.py:111: NumericsWarning: qExpectedHypervolumeImprovement has known numerical issues that lead to suboptimal optimization performance. It is strongly recommended to simply replace\n",
            "\n",
            "\t qExpectedHypervolumeImprovement \t --> \t qLogExpectedHypervolumeImprovement \n",
            "\n",
            "instead, which fixes the issues and has the same API. See https://arxiv.org/abs/2310.20708 for details.\n",
            "  legacy_ei_numerics_warning(legacy_name=type(self).__name__)\n",
            "/home/lewis/1project/bayesian_batch_phy_opt/venv/lib/python3.12/site-packages/botorch/acquisition/multi_objective/monte_carlo.py:321: NumericsWarning: qNoisyExpectedHypervolumeImprovement has known numerical issues that lead to suboptimal optimization performance. It is strongly recommended to simply replace\n",
            "\n",
            "\t qNoisyExpectedHypervolumeImprovement \t --> \t qLogNoisyExpectedHypervolumeImprovement \n",
            "\n",
            "instead, which fixes the issues and has the same API. See https://arxiv.org/abs/2310.20708 for details.\n",
            "  legacy_ei_numerics_warning(legacy_name=type(self).__name__)\n"
          ]
        },
        {
          "name": "stdout",
          "output_type": "stream",
          "text": [
            "\n",
            "Batch 10: Hypervolume (random, qNParEGO, qEHVI, qNEHVI) = (29.73, 47.81, 50.38, 55.02), time = 56.84."
          ]
        },
        {
          "name": "stderr",
          "output_type": "stream",
          "text": [
            "/home/lewis/1project/bayesian_batch_phy_opt/venv/lib/python3.12/site-packages/botorch/acquisition/monte_carlo.py:496: NumericsWarning: qNoisyExpectedImprovement has known numerical issues that lead to suboptimal optimization performance. It is strongly recommended to simply replace\n",
            "\n",
            "\t qNoisyExpectedImprovement \t --> \t qLogNoisyExpectedImprovement \n",
            "\n",
            "instead, which fixes the issues and has the same API. See https://arxiv.org/abs/2310.20708 for details.\n",
            "  legacy_ei_numerics_warning(legacy_name=type(self).__name__)\n",
            "/home/lewis/1project/bayesian_batch_phy_opt/venv/lib/python3.12/site-packages/botorch/acquisition/multi_objective/monte_carlo.py:111: NumericsWarning: qExpectedHypervolumeImprovement has known numerical issues that lead to suboptimal optimization performance. It is strongly recommended to simply replace\n",
            "\n",
            "\t qExpectedHypervolumeImprovement \t --> \t qLogExpectedHypervolumeImprovement \n",
            "\n",
            "instead, which fixes the issues and has the same API. See https://arxiv.org/abs/2310.20708 for details.\n",
            "  legacy_ei_numerics_warning(legacy_name=type(self).__name__)\n",
            "/home/lewis/1project/bayesian_batch_phy_opt/venv/lib/python3.12/site-packages/botorch/acquisition/multi_objective/monte_carlo.py:321: NumericsWarning: qNoisyExpectedHypervolumeImprovement has known numerical issues that lead to suboptimal optimization performance. It is strongly recommended to simply replace\n",
            "\n",
            "\t qNoisyExpectedHypervolumeImprovement \t --> \t qLogNoisyExpectedHypervolumeImprovement \n",
            "\n",
            "instead, which fixes the issues and has the same API. See https://arxiv.org/abs/2310.20708 for details.\n",
            "  legacy_ei_numerics_warning(legacy_name=type(self).__name__)\n"
          ]
        },
        {
          "name": "stdout",
          "output_type": "stream",
          "text": [
            "\n",
            "Batch 11: Hypervolume (random, qNParEGO, qEHVI, qNEHVI) = (29.73, 49.60, 50.68, 55.02), time = 50.14."
          ]
        },
        {
          "name": "stderr",
          "output_type": "stream",
          "text": [
            "/home/lewis/1project/bayesian_batch_phy_opt/venv/lib/python3.12/site-packages/botorch/acquisition/monte_carlo.py:496: NumericsWarning: qNoisyExpectedImprovement has known numerical issues that lead to suboptimal optimization performance. It is strongly recommended to simply replace\n",
            "\n",
            "\t qNoisyExpectedImprovement \t --> \t qLogNoisyExpectedImprovement \n",
            "\n",
            "instead, which fixes the issues and has the same API. See https://arxiv.org/abs/2310.20708 for details.\n",
            "  legacy_ei_numerics_warning(legacy_name=type(self).__name__)\n",
            "/home/lewis/1project/bayesian_batch_phy_opt/venv/lib/python3.12/site-packages/botorch/acquisition/multi_objective/monte_carlo.py:111: NumericsWarning: qExpectedHypervolumeImprovement has known numerical issues that lead to suboptimal optimization performance. It is strongly recommended to simply replace\n",
            "\n",
            "\t qExpectedHypervolumeImprovement \t --> \t qLogExpectedHypervolumeImprovement \n",
            "\n",
            "instead, which fixes the issues and has the same API. See https://arxiv.org/abs/2310.20708 for details.\n",
            "  legacy_ei_numerics_warning(legacy_name=type(self).__name__)\n",
            "/home/lewis/1project/bayesian_batch_phy_opt/venv/lib/python3.12/site-packages/botorch/acquisition/multi_objective/monte_carlo.py:321: NumericsWarning: qNoisyExpectedHypervolumeImprovement has known numerical issues that lead to suboptimal optimization performance. It is strongly recommended to simply replace\n",
            "\n",
            "\t qNoisyExpectedHypervolumeImprovement \t --> \t qLogNoisyExpectedHypervolumeImprovement \n",
            "\n",
            "instead, which fixes the issues and has the same API. See https://arxiv.org/abs/2310.20708 for details.\n",
            "  legacy_ei_numerics_warning(legacy_name=type(self).__name__)\n"
          ]
        },
        {
          "name": "stdout",
          "output_type": "stream",
          "text": [
            "\n",
            "Batch 12: Hypervolume (random, qNParEGO, qEHVI, qNEHVI) = (31.03, 51.45, 50.74, 55.02), time = 41.77."
          ]
        },
        {
          "name": "stderr",
          "output_type": "stream",
          "text": [
            "/home/lewis/1project/bayesian_batch_phy_opt/venv/lib/python3.12/site-packages/botorch/acquisition/monte_carlo.py:496: NumericsWarning: qNoisyExpectedImprovement has known numerical issues that lead to suboptimal optimization performance. It is strongly recommended to simply replace\n",
            "\n",
            "\t qNoisyExpectedImprovement \t --> \t qLogNoisyExpectedImprovement \n",
            "\n",
            "instead, which fixes the issues and has the same API. See https://arxiv.org/abs/2310.20708 for details.\n",
            "  legacy_ei_numerics_warning(legacy_name=type(self).__name__)\n",
            "/home/lewis/1project/bayesian_batch_phy_opt/venv/lib/python3.12/site-packages/botorch/acquisition/multi_objective/monte_carlo.py:111: NumericsWarning: qExpectedHypervolumeImprovement has known numerical issues that lead to suboptimal optimization performance. It is strongly recommended to simply replace\n",
            "\n",
            "\t qExpectedHypervolumeImprovement \t --> \t qLogExpectedHypervolumeImprovement \n",
            "\n",
            "instead, which fixes the issues and has the same API. See https://arxiv.org/abs/2310.20708 for details.\n",
            "  legacy_ei_numerics_warning(legacy_name=type(self).__name__)\n",
            "/home/lewis/1project/bayesian_batch_phy_opt/venv/lib/python3.12/site-packages/botorch/acquisition/multi_objective/monte_carlo.py:321: NumericsWarning: qNoisyExpectedHypervolumeImprovement has known numerical issues that lead to suboptimal optimization performance. It is strongly recommended to simply replace\n",
            "\n",
            "\t qNoisyExpectedHypervolumeImprovement \t --> \t qLogNoisyExpectedHypervolumeImprovement \n",
            "\n",
            "instead, which fixes the issues and has the same API. See https://arxiv.org/abs/2310.20708 for details.\n",
            "  legacy_ei_numerics_warning(legacy_name=type(self).__name__)\n"
          ]
        },
        {
          "name": "stdout",
          "output_type": "stream",
          "text": [
            "\n",
            "Batch 13: Hypervolume (random, qNParEGO, qEHVI, qNEHVI) = (31.03, 51.72, 50.74, 56.34), time = 40.65."
          ]
        },
        {
          "name": "stderr",
          "output_type": "stream",
          "text": [
            "/home/lewis/1project/bayesian_batch_phy_opt/venv/lib/python3.12/site-packages/botorch/acquisition/monte_carlo.py:496: NumericsWarning: qNoisyExpectedImprovement has known numerical issues that lead to suboptimal optimization performance. It is strongly recommended to simply replace\n",
            "\n",
            "\t qNoisyExpectedImprovement \t --> \t qLogNoisyExpectedImprovement \n",
            "\n",
            "instead, which fixes the issues and has the same API. See https://arxiv.org/abs/2310.20708 for details.\n",
            "  legacy_ei_numerics_warning(legacy_name=type(self).__name__)\n",
            "/home/lewis/1project/bayesian_batch_phy_opt/venv/lib/python3.12/site-packages/botorch/acquisition/multi_objective/monte_carlo.py:111: NumericsWarning: qExpectedHypervolumeImprovement has known numerical issues that lead to suboptimal optimization performance. It is strongly recommended to simply replace\n",
            "\n",
            "\t qExpectedHypervolumeImprovement \t --> \t qLogExpectedHypervolumeImprovement \n",
            "\n",
            "instead, which fixes the issues and has the same API. See https://arxiv.org/abs/2310.20708 for details.\n",
            "  legacy_ei_numerics_warning(legacy_name=type(self).__name__)\n",
            "/home/lewis/1project/bayesian_batch_phy_opt/venv/lib/python3.12/site-packages/botorch/acquisition/multi_objective/monte_carlo.py:321: NumericsWarning: qNoisyExpectedHypervolumeImprovement has known numerical issues that lead to suboptimal optimization performance. It is strongly recommended to simply replace\n",
            "\n",
            "\t qNoisyExpectedHypervolumeImprovement \t --> \t qLogNoisyExpectedHypervolumeImprovement \n",
            "\n",
            "instead, which fixes the issues and has the same API. See https://arxiv.org/abs/2310.20708 for details.\n",
            "  legacy_ei_numerics_warning(legacy_name=type(self).__name__)\n"
          ]
        },
        {
          "name": "stdout",
          "output_type": "stream",
          "text": [
            "\n",
            "Batch 14: Hypervolume (random, qNParEGO, qEHVI, qNEHVI) = (31.03, 52.92, 51.20, 56.43), time = 39.19."
          ]
        },
        {
          "name": "stderr",
          "output_type": "stream",
          "text": [
            "/home/lewis/1project/bayesian_batch_phy_opt/venv/lib/python3.12/site-packages/botorch/acquisition/monte_carlo.py:496: NumericsWarning: qNoisyExpectedImprovement has known numerical issues that lead to suboptimal optimization performance. It is strongly recommended to simply replace\n",
            "\n",
            "\t qNoisyExpectedImprovement \t --> \t qLogNoisyExpectedImprovement \n",
            "\n",
            "instead, which fixes the issues and has the same API. See https://arxiv.org/abs/2310.20708 for details.\n",
            "  legacy_ei_numerics_warning(legacy_name=type(self).__name__)\n",
            "/home/lewis/1project/bayesian_batch_phy_opt/venv/lib/python3.12/site-packages/botorch/acquisition/multi_objective/monte_carlo.py:111: NumericsWarning: qExpectedHypervolumeImprovement has known numerical issues that lead to suboptimal optimization performance. It is strongly recommended to simply replace\n",
            "\n",
            "\t qExpectedHypervolumeImprovement \t --> \t qLogExpectedHypervolumeImprovement \n",
            "\n",
            "instead, which fixes the issues and has the same API. See https://arxiv.org/abs/2310.20708 for details.\n",
            "  legacy_ei_numerics_warning(legacy_name=type(self).__name__)\n",
            "/home/lewis/1project/bayesian_batch_phy_opt/venv/lib/python3.12/site-packages/botorch/acquisition/multi_objective/monte_carlo.py:321: NumericsWarning: qNoisyExpectedHypervolumeImprovement has known numerical issues that lead to suboptimal optimization performance. It is strongly recommended to simply replace\n",
            "\n",
            "\t qNoisyExpectedHypervolumeImprovement \t --> \t qLogNoisyExpectedHypervolumeImprovement \n",
            "\n",
            "instead, which fixes the issues and has the same API. See https://arxiv.org/abs/2310.20708 for details.\n",
            "  legacy_ei_numerics_warning(legacy_name=type(self).__name__)\n"
          ]
        },
        {
          "name": "stdout",
          "output_type": "stream",
          "text": [
            "\n",
            "Batch 15: Hypervolume (random, qNParEGO, qEHVI, qNEHVI) = (31.03, 53.19, 51.30, 56.44), time = 43.53."
          ]
        },
        {
          "name": "stderr",
          "output_type": "stream",
          "text": [
            "/home/lewis/1project/bayesian_batch_phy_opt/venv/lib/python3.12/site-packages/botorch/acquisition/monte_carlo.py:496: NumericsWarning: qNoisyExpectedImprovement has known numerical issues that lead to suboptimal optimization performance. It is strongly recommended to simply replace\n",
            "\n",
            "\t qNoisyExpectedImprovement \t --> \t qLogNoisyExpectedImprovement \n",
            "\n",
            "instead, which fixes the issues and has the same API. See https://arxiv.org/abs/2310.20708 for details.\n",
            "  legacy_ei_numerics_warning(legacy_name=type(self).__name__)\n",
            "/home/lewis/1project/bayesian_batch_phy_opt/venv/lib/python3.12/site-packages/botorch/acquisition/multi_objective/monte_carlo.py:111: NumericsWarning: qExpectedHypervolumeImprovement has known numerical issues that lead to suboptimal optimization performance. It is strongly recommended to simply replace\n",
            "\n",
            "\t qExpectedHypervolumeImprovement \t --> \t qLogExpectedHypervolumeImprovement \n",
            "\n",
            "instead, which fixes the issues and has the same API. See https://arxiv.org/abs/2310.20708 for details.\n",
            "  legacy_ei_numerics_warning(legacy_name=type(self).__name__)\n",
            "/home/lewis/1project/bayesian_batch_phy_opt/venv/lib/python3.12/site-packages/botorch/acquisition/multi_objective/monte_carlo.py:321: NumericsWarning: qNoisyExpectedHypervolumeImprovement has known numerical issues that lead to suboptimal optimization performance. It is strongly recommended to simply replace\n",
            "\n",
            "\t qNoisyExpectedHypervolumeImprovement \t --> \t qLogNoisyExpectedHypervolumeImprovement \n",
            "\n",
            "instead, which fixes the issues and has the same API. See https://arxiv.org/abs/2310.20708 for details.\n",
            "  legacy_ei_numerics_warning(legacy_name=type(self).__name__)\n"
          ]
        },
        {
          "name": "stdout",
          "output_type": "stream",
          "text": [
            "\n",
            "Batch 16: Hypervolume (random, qNParEGO, qEHVI, qNEHVI) = (31.03, 53.39, 52.37, 56.57), time = 44.50."
          ]
        },
        {
          "name": "stderr",
          "output_type": "stream",
          "text": [
            "/home/lewis/1project/bayesian_batch_phy_opt/venv/lib/python3.12/site-packages/botorch/acquisition/monte_carlo.py:496: NumericsWarning: qNoisyExpectedImprovement has known numerical issues that lead to suboptimal optimization performance. It is strongly recommended to simply replace\n",
            "\n",
            "\t qNoisyExpectedImprovement \t --> \t qLogNoisyExpectedImprovement \n",
            "\n",
            "instead, which fixes the issues and has the same API. See https://arxiv.org/abs/2310.20708 for details.\n",
            "  legacy_ei_numerics_warning(legacy_name=type(self).__name__)\n",
            "/home/lewis/1project/bayesian_batch_phy_opt/venv/lib/python3.12/site-packages/botorch/acquisition/multi_objective/monte_carlo.py:111: NumericsWarning: qExpectedHypervolumeImprovement has known numerical issues that lead to suboptimal optimization performance. It is strongly recommended to simply replace\n",
            "\n",
            "\t qExpectedHypervolumeImprovement \t --> \t qLogExpectedHypervolumeImprovement \n",
            "\n",
            "instead, which fixes the issues and has the same API. See https://arxiv.org/abs/2310.20708 for details.\n",
            "  legacy_ei_numerics_warning(legacy_name=type(self).__name__)\n",
            "/home/lewis/1project/bayesian_batch_phy_opt/venv/lib/python3.12/site-packages/botorch/acquisition/multi_objective/monte_carlo.py:321: NumericsWarning: qNoisyExpectedHypervolumeImprovement has known numerical issues that lead to suboptimal optimization performance. It is strongly recommended to simply replace\n",
            "\n",
            "\t qNoisyExpectedHypervolumeImprovement \t --> \t qLogNoisyExpectedHypervolumeImprovement \n",
            "\n",
            "instead, which fixes the issues and has the same API. See https://arxiv.org/abs/2310.20708 for details.\n",
            "  legacy_ei_numerics_warning(legacy_name=type(self).__name__)\n"
          ]
        },
        {
          "name": "stdout",
          "output_type": "stream",
          "text": [
            "\n",
            "Batch 17: Hypervolume (random, qNParEGO, qEHVI, qNEHVI) = (31.03, 53.45, 52.90, 56.57), time = 52.26."
          ]
        },
        {
          "name": "stderr",
          "output_type": "stream",
          "text": [
            "/home/lewis/1project/bayesian_batch_phy_opt/venv/lib/python3.12/site-packages/botorch/acquisition/monte_carlo.py:496: NumericsWarning: qNoisyExpectedImprovement has known numerical issues that lead to suboptimal optimization performance. It is strongly recommended to simply replace\n",
            "\n",
            "\t qNoisyExpectedImprovement \t --> \t qLogNoisyExpectedImprovement \n",
            "\n",
            "instead, which fixes the issues and has the same API. See https://arxiv.org/abs/2310.20708 for details.\n",
            "  legacy_ei_numerics_warning(legacy_name=type(self).__name__)\n",
            "/home/lewis/1project/bayesian_batch_phy_opt/venv/lib/python3.12/site-packages/botorch/acquisition/multi_objective/monte_carlo.py:111: NumericsWarning: qExpectedHypervolumeImprovement has known numerical issues that lead to suboptimal optimization performance. It is strongly recommended to simply replace\n",
            "\n",
            "\t qExpectedHypervolumeImprovement \t --> \t qLogExpectedHypervolumeImprovement \n",
            "\n",
            "instead, which fixes the issues and has the same API. See https://arxiv.org/abs/2310.20708 for details.\n",
            "  legacy_ei_numerics_warning(legacy_name=type(self).__name__)\n",
            "/home/lewis/1project/bayesian_batch_phy_opt/venv/lib/python3.12/site-packages/botorch/acquisition/multi_objective/monte_carlo.py:321: NumericsWarning: qNoisyExpectedHypervolumeImprovement has known numerical issues that lead to suboptimal optimization performance. It is strongly recommended to simply replace\n",
            "\n",
            "\t qNoisyExpectedHypervolumeImprovement \t --> \t qLogNoisyExpectedHypervolumeImprovement \n",
            "\n",
            "instead, which fixes the issues and has the same API. See https://arxiv.org/abs/2310.20708 for details.\n",
            "  legacy_ei_numerics_warning(legacy_name=type(self).__name__)\n"
          ]
        },
        {
          "name": "stdout",
          "output_type": "stream",
          "text": [
            "\n",
            "Batch 18: Hypervolume (random, qNParEGO, qEHVI, qNEHVI) = (31.03, 53.48, 54.91, 56.62), time = 44.10."
          ]
        },
        {
          "name": "stderr",
          "output_type": "stream",
          "text": [
            "/home/lewis/1project/bayesian_batch_phy_opt/venv/lib/python3.12/site-packages/botorch/acquisition/monte_carlo.py:496: NumericsWarning: qNoisyExpectedImprovement has known numerical issues that lead to suboptimal optimization performance. It is strongly recommended to simply replace\n",
            "\n",
            "\t qNoisyExpectedImprovement \t --> \t qLogNoisyExpectedImprovement \n",
            "\n",
            "instead, which fixes the issues and has the same API. See https://arxiv.org/abs/2310.20708 for details.\n",
            "  legacy_ei_numerics_warning(legacy_name=type(self).__name__)\n",
            "/home/lewis/1project/bayesian_batch_phy_opt/venv/lib/python3.12/site-packages/botorch/acquisition/multi_objective/monte_carlo.py:111: NumericsWarning: qExpectedHypervolumeImprovement has known numerical issues that lead to suboptimal optimization performance. It is strongly recommended to simply replace\n",
            "\n",
            "\t qExpectedHypervolumeImprovement \t --> \t qLogExpectedHypervolumeImprovement \n",
            "\n",
            "instead, which fixes the issues and has the same API. See https://arxiv.org/abs/2310.20708 for details.\n",
            "  legacy_ei_numerics_warning(legacy_name=type(self).__name__)\n",
            "/home/lewis/1project/bayesian_batch_phy_opt/venv/lib/python3.12/site-packages/botorch/acquisition/multi_objective/monte_carlo.py:321: NumericsWarning: qNoisyExpectedHypervolumeImprovement has known numerical issues that lead to suboptimal optimization performance. It is strongly recommended to simply replace\n",
            "\n",
            "\t qNoisyExpectedHypervolumeImprovement \t --> \t qLogNoisyExpectedHypervolumeImprovement \n",
            "\n",
            "instead, which fixes the issues and has the same API. See https://arxiv.org/abs/2310.20708 for details.\n",
            "  legacy_ei_numerics_warning(legacy_name=type(self).__name__)\n"
          ]
        },
        {
          "name": "stdout",
          "output_type": "stream",
          "text": [
            "\n",
            "Batch 19: Hypervolume (random, qNParEGO, qEHVI, qNEHVI) = (31.03, 54.33, 55.00, 56.65), time = 45.44."
          ]
        },
        {
          "name": "stderr",
          "output_type": "stream",
          "text": [
            "/home/lewis/1project/bayesian_batch_phy_opt/venv/lib/python3.12/site-packages/botorch/acquisition/monte_carlo.py:496: NumericsWarning: qNoisyExpectedImprovement has known numerical issues that lead to suboptimal optimization performance. It is strongly recommended to simply replace\n",
            "\n",
            "\t qNoisyExpectedImprovement \t --> \t qLogNoisyExpectedImprovement \n",
            "\n",
            "instead, which fixes the issues and has the same API. See https://arxiv.org/abs/2310.20708 for details.\n",
            "  legacy_ei_numerics_warning(legacy_name=type(self).__name__)\n",
            "/home/lewis/1project/bayesian_batch_phy_opt/venv/lib/python3.12/site-packages/botorch/acquisition/multi_objective/monte_carlo.py:111: NumericsWarning: qExpectedHypervolumeImprovement has known numerical issues that lead to suboptimal optimization performance. It is strongly recommended to simply replace\n",
            "\n",
            "\t qExpectedHypervolumeImprovement \t --> \t qLogExpectedHypervolumeImprovement \n",
            "\n",
            "instead, which fixes the issues and has the same API. See https://arxiv.org/abs/2310.20708 for details.\n",
            "  legacy_ei_numerics_warning(legacy_name=type(self).__name__)\n",
            "/home/lewis/1project/bayesian_batch_phy_opt/venv/lib/python3.12/site-packages/botorch/acquisition/multi_objective/monte_carlo.py:321: NumericsWarning: qNoisyExpectedHypervolumeImprovement has known numerical issues that lead to suboptimal optimization performance. It is strongly recommended to simply replace\n",
            "\n",
            "\t qNoisyExpectedHypervolumeImprovement \t --> \t qLogNoisyExpectedHypervolumeImprovement \n",
            "\n",
            "instead, which fixes the issues and has the same API. See https://arxiv.org/abs/2310.20708 for details.\n",
            "  legacy_ei_numerics_warning(legacy_name=type(self).__name__)\n"
          ]
        },
        {
          "name": "stdout",
          "output_type": "stream",
          "text": [
            "\n",
            "Batch 20: Hypervolume (random, qNParEGO, qEHVI, qNEHVI) = (31.03, 54.34, 55.00, 56.65), time = 51.66."
          ]
        }
      ],
      "source": [
        "import time\n",
        "import warnings\n",
        "\n",
        "from botorch import fit_gpytorch_mll\n",
        "from botorch.exceptions import BadInitialCandidatesWarning\n",
        "from botorch.sampling.normal import SobolQMCNormalSampler\n",
        "from botorch.utils.multi_objective.box_decompositions.dominated import (\n",
        "    DominatedPartitioning,\n",
        ")\n",
        "from botorch.utils.multi_objective.pareto import is_non_dominated\n",
        "\n",
        "\n",
        "warnings.filterwarnings(\"ignore\", category=BadInitialCandidatesWarning)\n",
        "warnings.filterwarnings(\"ignore\", category=RuntimeWarning)\n",
        "\n",
        "N_BATCH = 20 if not SMOKE_TEST else 5\n",
        "MC_SAMPLES = 128 if not SMOKE_TEST else 16\n",
        "\n",
        "verbose = True\n",
        "\n",
        "hvs_qparego, hvs_qehvi, hvs_qnehvi, hvs_random = [], [], [], []\n",
        "\n",
        "# call helper functions to generate initial training data and initialize model\n",
        "train_x_qparego, train_obj_qparego, train_obj_true_qparego = generate_initial_data(\n",
        "    n=2 * (problem.dim + 1)\n",
        ")\n",
        "mll_qparego, model_qparego = initialize_model(train_x_qparego, train_obj_qparego)\n",
        "\n",
        "train_x_qehvi, train_obj_qehvi, train_obj_true_qehvi = (\n",
        "    train_x_qparego,\n",
        "    train_obj_qparego,\n",
        "    train_obj_true_qparego,\n",
        ")\n",
        "train_x_qnehvi, train_obj_qnehvi, train_obj_true_qnehvi = (\n",
        "    train_x_qparego,\n",
        "    train_obj_qparego,\n",
        "    train_obj_true_qparego,\n",
        ")\n",
        "train_x_random, train_obj_random, train_obj_true_random = (\n",
        "    train_x_qparego,\n",
        "    train_obj_qparego,\n",
        "    train_obj_true_qparego,\n",
        ")\n",
        "mll_qehvi, model_qehvi = initialize_model(train_x_qehvi, train_obj_qehvi)\n",
        "mll_qnehvi, model_qnehvi = initialize_model(train_x_qnehvi, train_obj_qnehvi)\n",
        "\n",
        "# compute hypervolume\n",
        "bd = DominatedPartitioning(ref_point=problem.ref_point, Y=train_obj_true_qparego)\n",
        "volume = bd.compute_hypervolume().item()\n",
        "\n",
        "hvs_qparego.append(volume)\n",
        "hvs_qehvi.append(volume)\n",
        "hvs_qnehvi.append(volume)\n",
        "hvs_random.append(volume)\n",
        "\n",
        "# run N_BATCH rounds of BayesOpt after the initial random batch\n",
        "for iteration in range(1, N_BATCH + 1):\n",
        "\n",
        "    t0 = time.monotonic()\n",
        "\n",
        "    # fit the models\n",
        "    fit_gpytorch_mll(mll_qparego)\n",
        "    fit_gpytorch_mll(mll_qehvi)\n",
        "    fit_gpytorch_mll(mll_qnehvi)\n",
        "\n",
        "    # define the qEI and qNEI acquisition modules using a QMC sampler\n",
        "    qparego_sampler = SobolQMCNormalSampler(sample_shape=torch.Size([MC_SAMPLES]))\n",
        "    qehvi_sampler = SobolQMCNormalSampler(sample_shape=torch.Size([MC_SAMPLES]))\n",
        "    qnehvi_sampler = SobolQMCNormalSampler(sample_shape=torch.Size([MC_SAMPLES]))\n",
        "\n",
        "    # optimize acquisition functions and get new observations\n",
        "    (\n",
        "        new_x_qparego,\n",
        "        new_obj_qparego,\n",
        "        new_obj_true_qparego,\n",
        "    ) = optimize_qnparego_and_get_observation(\n",
        "        model_qparego, train_x_qparego, train_obj_qparego, qparego_sampler\n",
        "    )\n",
        "    new_x_qehvi, new_obj_qehvi, new_obj_true_qehvi = optimize_qehvi_and_get_observation(\n",
        "        model_qehvi, train_x_qehvi, train_obj_qehvi, qehvi_sampler\n",
        "    )\n",
        "    (\n",
        "        new_x_qnehvi,\n",
        "        new_obj_qnehvi,\n",
        "        new_obj_true_qnehvi,\n",
        "    ) = optimize_qnehvi_and_get_observation(\n",
        "        model_qnehvi, train_x_qnehvi, train_obj_qnehvi, qnehvi_sampler\n",
        "    )\n",
        "    new_x_random, new_obj_random, new_obj_true_random = generate_initial_data(\n",
        "        n=BATCH_SIZE\n",
        "    )\n",
        "\n",
        "    # update training points\n",
        "    train_x_qparego = torch.cat([train_x_qparego, new_x_qparego])\n",
        "    train_obj_qparego = torch.cat([train_obj_qparego, new_obj_qparego])\n",
        "    train_obj_true_qparego = torch.cat([train_obj_true_qparego, new_obj_true_qparego])\n",
        "\n",
        "    train_x_qehvi = torch.cat([train_x_qehvi, new_x_qehvi])\n",
        "    train_obj_qehvi = torch.cat([train_obj_qehvi, new_obj_qehvi])\n",
        "    train_obj_true_qehvi = torch.cat([train_obj_true_qehvi, new_obj_true_qehvi])\n",
        "\n",
        "    train_x_qnehvi = torch.cat([train_x_qnehvi, new_x_qnehvi])\n",
        "    train_obj_qnehvi = torch.cat([train_obj_qnehvi, new_obj_qnehvi])\n",
        "    train_obj_true_qnehvi = torch.cat([train_obj_true_qnehvi, new_obj_true_qnehvi])\n",
        "\n",
        "    train_x_random = torch.cat([train_x_random, new_x_random])\n",
        "    train_obj_random = torch.cat([train_obj_random, new_obj_random])\n",
        "    train_obj_true_random = torch.cat([train_obj_true_random, new_obj_true_random])\n",
        "\n",
        "    # update progress\n",
        "    for hvs_list, train_obj in zip(\n",
        "        (hvs_random, hvs_qparego, hvs_qehvi, hvs_qnehvi),\n",
        "        (\n",
        "            train_obj_true_random,\n",
        "            train_obj_true_qparego,\n",
        "            train_obj_true_qehvi,\n",
        "            train_obj_true_qnehvi,\n",
        "        ),\n",
        "    ):\n",
        "        # compute hypervolume\n",
        "        bd = DominatedPartitioning(ref_point=problem.ref_point, Y=train_obj)\n",
        "        volume = bd.compute_hypervolume().item()\n",
        "        hvs_list.append(volume)\n",
        "\n",
        "    # reinitialize the models so they are ready for fitting on next iteration\n",
        "    # Note: we find improved performance from not warm starting the model hyperparameters\n",
        "    # using the hyperparameters from the previous iteration\n",
        "    mll_qparego, model_qparego = initialize_model(train_x_qparego, train_obj_qparego)\n",
        "    mll_qehvi, model_qehvi = initialize_model(train_x_qehvi, train_obj_qehvi)\n",
        "    mll_qnehvi, model_qnehvi = initialize_model(train_x_qnehvi, train_obj_qnehvi)\n",
        "\n",
        "    t1 = time.monotonic()\n",
        "\n",
        "    if verbose:\n",
        "        print(\n",
        "            f\"\\nBatch {iteration:>2}: Hypervolume (random, qNParEGO, qEHVI, qNEHVI) = \"\n",
        "            f\"({hvs_random[-1]:>4.2f}, {hvs_qparego[-1]:>4.2f}, {hvs_qehvi[-1]:>4.2f}, {hvs_qnehvi[-1]:>4.2f}), \"\n",
        "            f\"time = {t1-t0:>4.2f}.\",\n",
        "            end=\"\",\n",
        "        )\n",
        "    else:\n",
        "        print(\".\", end=\"\")"
      ]
    },
    {
      "cell_type": "markdown",
      "metadata": {
        "originalKey": "72232578-0908-4292-aca4-d52197890dd6",
        "showInput": false
      },
      "source": [
        "#### Plot the results\n",
        "The plot below shows the a common metric of multi-objective optimization performance, the log hypervolume difference: the log difference between the hypervolume of the true pareto front and the hypervolume of the approximate pareto front identified by each algorithm. The log hypervolume difference is plotted at each step of the optimization for each of the algorithms.\n",
        "\n",
        "The plot shows that $q$NEHVI outperforms $q$EHVI, $q$ParEGO, and Sobol."
      ]
    },
    {
      "cell_type": "code",
      "execution_count": 9,
      "metadata": {
        "collapsed": false,
        "customOutput": null,
        "executionStartTime": 1668649857076,
        "executionStopTime": 1668649858100,
        "originalKey": "c9560130-5c74-4b2b-b24a-fd7618ee7822",
        "requestMsgId": "d6978d53-90e4-476b-bb1d-75010f65dcd6"
      },
      "outputs": [
        {
          "data": {
            "text/plain": [
              "<matplotlib.legend.Legend at 0x7feddd69d610>"
            ]
          },
          "execution_count": 9,
          "metadata": {},
          "output_type": "execute_result"
        },
        {
          "data": {
            "image/png": "[encoded data removed]",
            "text/plain": [
              "<Figure size 800x600 with 1 Axes>"
            ]
          },
          "metadata": {},
          "output_type": "display_data"
        }
      ],
      "source": [
        "import numpy as np\n",
        "from matplotlib import pyplot as plt\n",
        "\n",
        "%matplotlib inline\n",
        "\n",
        "\n",
        "iters = np.arange(N_BATCH + 1) * BATCH_SIZE\n",
        "log_hv_difference_qparego = np.log10(problem.max_hv - np.asarray(hvs_qparego))\n",
        "log_hv_difference_qehvi = np.log10(problem.max_hv - np.asarray(hvs_qehvi))\n",
        "log_hv_difference_qnehvi = np.log10(problem.max_hv - np.asarray(hvs_qnehvi))\n",
        "log_hv_difference_rnd = np.log10(problem.max_hv - np.asarray(hvs_random))\n",
        "\n",
        "fig, ax = plt.subplots(1, 1, figsize=(8, 6))\n",
        "ax.errorbar(\n",
        "    iters,\n",
        "    log_hv_difference_rnd,\n",
        "    label=\"Sobol\",\n",
        "    linewidth=1.5,\n",
        ")\n",
        "ax.errorbar(\n",
        "    iters,\n",
        "    log_hv_difference_qparego,\n",
        "    label=\"qNParEGO\",\n",
        "    linewidth=1.5,\n",
        ")\n",
        "ax.errorbar(\n",
        "    iters,\n",
        "    log_hv_difference_qehvi,\n",
        "    label=\"qEHVI\",\n",
        "    linewidth=1.5,\n",
        ")\n",
        "ax.errorbar(\n",
        "    iters,\n",
        "    log_hv_difference_qnehvi,\n",
        "    label=\"qNEHVI\",\n",
        "    linewidth=1.5,\n",
        ")\n",
        "ax.set(\n",
        "    xlabel=\"number of observations (beyond initial points)\",\n",
        "    ylabel=\"Log Hypervolume Difference\",\n",
        ")\n",
        "ax.legend(loc=\"lower left\")"
      ]
    },
    {
      "cell_type": "markdown",
      "metadata": {
        "collapsed": true,
        "originalKey": "824c329c-6c02-4f67-bce0-a4c57ea655d8",
        "showInput": false
      },
      "source": [
        "#### Plot the true objectives at the evaluated designs colored by iteration\n",
        "\n",
        "To examine optimization process from another perspective, we plot the true function values at the designs selected under each algorithm where the color corresponds to the BO iteration at which the point was collected. The plot on the right for $q$NEHVI shows that the $q$NEHVI quickly identifies the pareto front and most of its evaluations are very close to the pareto front. $q$NParEGO also identifies has many observations close to the pareto front, but relies on optimizing random scalarizations, which is a less principled way of optimizing the pareto front compared to $q$NEHVI, which explicitly attempts focuses on improving the pareto front. $q$EHVI uses the posterior mean as a plug-in estimator for the true function values at the in-sample points, whereas $q$NEHVI than integrating over the uncertainty at the in-sample designs Sobol generates random points and has few points close to the Pareto front."
      ]
    },
    {
      "cell_type": "code",
      "execution_count": 10,
      "metadata": {
        "collapsed": false,
        "customOutput": null,
        "executionStartTime": 1668649858641,
        "executionStopTime": 1668649859522,
        "originalKey": "cf610a77-3e82-4c30-ac7b-f7a97fa91fa5",
        "requestMsgId": "afb07e9c-ebaf-4a8e-90e3-ca426532de20"
      },
      "outputs": [
        {
          "data": {
            "text/plain": [
              "Text(0.5, 1.0, 'Iteration')"
            ]
          },
          "execution_count": 10,
          "metadata": {},
          "output_type": "execute_result"
        },
        {
          "data": {
            "image/png": "[encoded data removed]",
            "text/plain": [
              "<Figure size 2300x700 with 5 Axes>"
            ]
          },
          "metadata": {},
          "output_type": "display_data"
        }
      ],
      "source": [
        "from matplotlib.cm import ScalarMappable\n",
        "\n",
        "\n",
        "fig, axes = plt.subplots(1, 4, figsize=(23, 7), sharex=True, sharey=True)\n",
        "algos = [\"Sobol\", \"qNParEGO\", \"qEHVI\", \"qNEHVI\"]\n",
        "cm = plt.get_cmap(\"viridis\")\n",
        "\n",
        "batch_number = torch.cat(\n",
        "    [\n",
        "        torch.zeros(2 * (problem.dim + 1)),\n",
        "        torch.arange(1, N_BATCH + 1).repeat(BATCH_SIZE, 1).t().reshape(-1),\n",
        "    ]\n",
        ").numpy()\n",
        "for i, train_obj in enumerate(\n",
        "    (\n",
        "        train_obj_true_random,\n",
        "        train_obj_true_qparego,\n",
        "        train_obj_true_qehvi,\n",
        "        train_obj_true_qnehvi,\n",
        "    )\n",
        "):\n",
        "    sc = axes[i].scatter(\n",
        "        train_obj[:, 0].cpu().numpy(),\n",
        "        train_obj[:, 1].cpu().numpy(),\n",
        "        c=batch_number,\n",
        "        alpha=0.8,\n",
        "    )\n",
        "    axes[i].set_title(algos[i])\n",
        "    axes[i].set_xlabel(\"Objective 1\")\n",
        "axes[0].set_ylabel(\"Objective 2\")\n",
        "norm = plt.Normalize(batch_number.min(), batch_number.max())\n",
        "sm = ScalarMappable(norm=norm, cmap=cm)\n",
        "sm.set_array([])\n",
        "fig.subplots_adjust(right=0.9)\n",
        "cbar_ax = fig.add_axes([0.93, 0.15, 0.01, 0.7])\n",
        "cbar = fig.colorbar(sm, cax=cbar_ax)\n",
        "cbar.ax.set_title(\"Iteration\")"
      ]
    }
  ],
  "metadata": {
    "kernelspec": {
      "display_name": "venv",
      "language": "python",
      "name": "python3"
    },
    "language_info": {
      "codemirror_mode": {
        "name": "ipython",
        "version": 3
      },
      "file_extension": ".py",
      "mimetype": "text/x-python",
      "name": "python",
      "nbconvert_exporter": "python",
      "pygments_lexer": "ipython3",
      "version": "3.12.9"
    }
  },
  "nbformat": 4,
  "nbformat_minor": 2
}
